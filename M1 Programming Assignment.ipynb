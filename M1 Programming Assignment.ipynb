{
 "cells": [
  {
   "cell_type": "code",
   "execution_count": 1,
   "id": "d72f0e09-f161-4b7b-915f-200a575a076e",
   "metadata": {},
   "outputs": [],
   "source": [
    "#Variables\n",
    "\n",
    "seconds_per_hour = 60 * 60\n",
    "\n",
    "seconds_per_day = seconds_per_hour * 24\n",
    "\n",
    "seconds_per_day / seconds_per_hour\n",
    "\n",
    "seconds_per_day // seconds_per_hour\n",
    "\n",
    "print(seconds_per_hour)\n",
    "\n",
    "print(seconds_per_day)\n",
    "\n",
    "print "
   ]
  }
 ],
 "metadata": {
  "kernelspec": {
   "display_name": "Python [conda env:base] *",
   "language": "python",
   "name": "conda-base-py"
  },
  "language_info": {
   "codemirror_mode": {
    "name": "ipython",
    "version": 3
   },
   "file_extension": ".py",
   "mimetype": "text/x-python",
   "name": "python",
   "nbconvert_exporter": "python",
   "pygments_lexer": "ipython3",
   "version": "3.12.7"
  }
 },
 "nbformat": 4,
 "nbformat_minor": 5
}
