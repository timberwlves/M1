{
 "cells": [
  {
   "cell_type": "code",
   "execution_count": 5,
   "id": "d72f0e09-f161-4b7b-915f-200a575a076e",
   "metadata": {
    "scrolled": true
   },
   "outputs": [
    {
     "name": "stdout",
     "output_type": "stream",
     "text": [
      "3600\n",
      "86400\n",
      "24.0\n",
      "24\n"
     ]
    }
   ],
   "source": [
    "#Variables\n",
    "\n",
    "seconds_per_hour = 60 * 60\n",
    "\n",
    "seconds_per_day = seconds_per_hour * 24\n",
    "\n",
    "float_point = seconds_per_day / seconds_per_hour\n",
    "\n",
    "integer_division = seconds_per_day // seconds_per_hour\n",
    "\n",
    "print(seconds_per_hour)\n",
    "\n",
    "print(seconds_per_day)\n",
    "\n",
    "print(float_point)\n",
    "\n",
    "print(integer_division)"
   ]
  }
 ],
 "metadata": {
  "kernelspec": {
   "display_name": "Python [conda env:base] *",
   "language": "python",
   "name": "conda-base-py"
  },
  "language_info": {
   "codemirror_mode": {
    "name": "ipython",
    "version": 3
   },
   "file_extension": ".py",
   "mimetype": "text/x-python",
   "name": "python",
   "nbconvert_exporter": "python",
   "pygments_lexer": "ipython3",
   "version": "3.12.7"
  }
 },
 "nbformat": 4,
 "nbformat_minor": 5
}
